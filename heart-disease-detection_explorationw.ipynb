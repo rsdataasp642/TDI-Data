{
 "cells": [
  {
   "cell_type": "markdown",
   "metadata": {},
   "source": [
    "# Import Packages"
   ]
  },
  {
   "cell_type": "code",
   "execution_count": 1,
   "metadata": {},
   "outputs": [],
   "source": [
    "from sklearn.base import BaseEstimator, RegressorMixin, TransformerMixin\n",
    "from sklearn.decomposition import PCA\n",
    "from sklearn.ensemble import RandomForestClassifier\n",
    "from sklearn.linear_model import LogisticRegression\n",
    "from sklearn.metrics import log_loss\n",
    "from sklearn.model_selection import GridSearchCV\n",
    "from sklearn.pipeline import Pipeline, FeatureUnion\n",
    "from sklearn.preprocessing import OneHotEncoder, LabelEncoder\n",
    "import matplotlib.pyplot as plt\n",
    "import numpy as np\n",
    "import pandas as pd\n",
    "import seaborn as sns\n",
    "\n",
    "from sklearn.preprocessing import StandardScaler\n",
    "from sklearn.linear_model import Ridge\n",
    "from sklearn.decomposition import NMF\n",
    "from sklearn.svm import SVC\n",
    "from sklearn.decomposition import TruncatedSVD\n",
    "from sklearn.feature_selection import SelectKBest, chi2\n",
    "from sklearn.model_selection import StratifiedKFold"
   ]
  },
  {
   "cell_type": "markdown",
   "metadata": {},
   "source": [
    "# Import Data"
   ]
  },
  {
   "cell_type": "code",
   "execution_count": 3,
   "metadata": {},
   "outputs": [],
   "source": [
    "X = pd.read_csv('Data/train_values.csv', index_col='patient_id')"
   ]
  },
  {
   "cell_type": "code",
   "execution_count": 4,
   "metadata": {},
   "outputs": [],
   "source": [
    "y = pd.read_csv('Data/train_labels.csv', index_col='patient_id')['heart_disease_present']\n"
   ]
  },
  {
   "cell_type": "code",
   "execution_count": 5,
   "metadata": {},
   "outputs": [
    {
     "data": {
      "text/plain": [
       "0    100\n",
       "1     80\n",
       "Name: heart_disease_present, dtype: int64"
      ]
     },
     "execution_count": 5,
     "metadata": {},
     "output_type": "execute_result"
    }
   ],
   "source": [
    "y.value_counts()"
   ]
  },
  {
   "cell_type": "code",
   "execution_count": 6,
   "metadata": {},
   "outputs": [
    {
     "data": {
      "text/html": [
       "<div>\n",
       "<style scoped>\n",
       "    .dataframe tbody tr th:only-of-type {\n",
       "        vertical-align: middle;\n",
       "    }\n",
       "\n",
       "    .dataframe tbody tr th {\n",
       "        vertical-align: top;\n",
       "    }\n",
       "\n",
       "    .dataframe thead th {\n",
       "        text-align: right;\n",
       "    }\n",
       "</style>\n",
       "<table border=\"1\" class=\"dataframe\">\n",
       "  <thead>\n",
       "    <tr style=\"text-align: right;\">\n",
       "      <th></th>\n",
       "      <th>slope_of_peak_exercise_st_segment</th>\n",
       "      <th>thal</th>\n",
       "      <th>resting_blood_pressure</th>\n",
       "      <th>chest_pain_type</th>\n",
       "      <th>num_major_vessels</th>\n",
       "      <th>fasting_blood_sugar_gt_120_mg_per_dl</th>\n",
       "      <th>resting_ekg_results</th>\n",
       "      <th>serum_cholesterol_mg_per_dl</th>\n",
       "      <th>oldpeak_eq_st_depression</th>\n",
       "      <th>sex</th>\n",
       "      <th>age</th>\n",
       "      <th>max_heart_rate_achieved</th>\n",
       "      <th>exercise_induced_angina</th>\n",
       "      <th>heart_disease_present</th>\n",
       "    </tr>\n",
       "    <tr>\n",
       "      <th>patient_id</th>\n",
       "      <th></th>\n",
       "      <th></th>\n",
       "      <th></th>\n",
       "      <th></th>\n",
       "      <th></th>\n",
       "      <th></th>\n",
       "      <th></th>\n",
       "      <th></th>\n",
       "      <th></th>\n",
       "      <th></th>\n",
       "      <th></th>\n",
       "      <th></th>\n",
       "      <th></th>\n",
       "      <th></th>\n",
       "    </tr>\n",
       "  </thead>\n",
       "  <tbody>\n",
       "    <tr>\n",
       "      <th>0z64un</th>\n",
       "      <td>1</td>\n",
       "      <td>normal</td>\n",
       "      <td>128</td>\n",
       "      <td>2</td>\n",
       "      <td>0</td>\n",
       "      <td>0</td>\n",
       "      <td>2</td>\n",
       "      <td>308</td>\n",
       "      <td>0.0</td>\n",
       "      <td>1</td>\n",
       "      <td>45</td>\n",
       "      <td>170</td>\n",
       "      <td>0</td>\n",
       "      <td>0</td>\n",
       "    </tr>\n",
       "    <tr>\n",
       "      <th>ryoo3j</th>\n",
       "      <td>2</td>\n",
       "      <td>normal</td>\n",
       "      <td>110</td>\n",
       "      <td>3</td>\n",
       "      <td>0</td>\n",
       "      <td>0</td>\n",
       "      <td>0</td>\n",
       "      <td>214</td>\n",
       "      <td>1.6</td>\n",
       "      <td>0</td>\n",
       "      <td>54</td>\n",
       "      <td>158</td>\n",
       "      <td>0</td>\n",
       "      <td>0</td>\n",
       "    </tr>\n",
       "    <tr>\n",
       "      <th>yt1s1x</th>\n",
       "      <td>1</td>\n",
       "      <td>normal</td>\n",
       "      <td>125</td>\n",
       "      <td>4</td>\n",
       "      <td>3</td>\n",
       "      <td>0</td>\n",
       "      <td>2</td>\n",
       "      <td>304</td>\n",
       "      <td>0.0</td>\n",
       "      <td>1</td>\n",
       "      <td>77</td>\n",
       "      <td>162</td>\n",
       "      <td>1</td>\n",
       "      <td>1</td>\n",
       "    </tr>\n",
       "    <tr>\n",
       "      <th>l2xjde</th>\n",
       "      <td>1</td>\n",
       "      <td>reversible_defect</td>\n",
       "      <td>152</td>\n",
       "      <td>4</td>\n",
       "      <td>0</td>\n",
       "      <td>0</td>\n",
       "      <td>0</td>\n",
       "      <td>223</td>\n",
       "      <td>0.0</td>\n",
       "      <td>1</td>\n",
       "      <td>40</td>\n",
       "      <td>181</td>\n",
       "      <td>0</td>\n",
       "      <td>1</td>\n",
       "    </tr>\n",
       "    <tr>\n",
       "      <th>oyt4ek</th>\n",
       "      <td>3</td>\n",
       "      <td>reversible_defect</td>\n",
       "      <td>178</td>\n",
       "      <td>1</td>\n",
       "      <td>0</td>\n",
       "      <td>0</td>\n",
       "      <td>2</td>\n",
       "      <td>270</td>\n",
       "      <td>4.2</td>\n",
       "      <td>1</td>\n",
       "      <td>59</td>\n",
       "      <td>145</td>\n",
       "      <td>0</td>\n",
       "      <td>0</td>\n",
       "    </tr>\n",
       "  </tbody>\n",
       "</table>\n",
       "</div>"
      ],
      "text/plain": [
       "            slope_of_peak_exercise_st_segment               thal  \\\n",
       "patient_id                                                         \n",
       "0z64un                                      1             normal   \n",
       "ryoo3j                                      2             normal   \n",
       "yt1s1x                                      1             normal   \n",
       "l2xjde                                      1  reversible_defect   \n",
       "oyt4ek                                      3  reversible_defect   \n",
       "\n",
       "            resting_blood_pressure  chest_pain_type  num_major_vessels  \\\n",
       "patient_id                                                               \n",
       "0z64un                         128                2                  0   \n",
       "ryoo3j                         110                3                  0   \n",
       "yt1s1x                         125                4                  3   \n",
       "l2xjde                         152                4                  0   \n",
       "oyt4ek                         178                1                  0   \n",
       "\n",
       "            fasting_blood_sugar_gt_120_mg_per_dl  resting_ekg_results  \\\n",
       "patient_id                                                              \n",
       "0z64un                                         0                    2   \n",
       "ryoo3j                                         0                    0   \n",
       "yt1s1x                                         0                    2   \n",
       "l2xjde                                         0                    0   \n",
       "oyt4ek                                         0                    2   \n",
       "\n",
       "            serum_cholesterol_mg_per_dl  oldpeak_eq_st_depression  sex  age  \\\n",
       "patient_id                                                                    \n",
       "0z64un                              308                       0.0    1   45   \n",
       "ryoo3j                              214                       1.6    0   54   \n",
       "yt1s1x                              304                       0.0    1   77   \n",
       "l2xjde                              223                       0.0    1   40   \n",
       "oyt4ek                              270                       4.2    1   59   \n",
       "\n",
       "            max_heart_rate_achieved  exercise_induced_angina  \\\n",
       "patient_id                                                     \n",
       "0z64un                          170                        0   \n",
       "ryoo3j                          158                        0   \n",
       "yt1s1x                          162                        1   \n",
       "l2xjde                          181                        0   \n",
       "oyt4ek                          145                        0   \n",
       "\n",
       "            heart_disease_present  \n",
       "patient_id                         \n",
       "0z64un                          0  \n",
       "ryoo3j                          0  \n",
       "yt1s1x                          1  \n",
       "l2xjde                          1  \n",
       "oyt4ek                          0  "
      ]
     },
     "execution_count": 6,
     "metadata": {},
     "output_type": "execute_result"
    }
   ],
   "source": [
    "X_new = X\n",
    "X_new['heart_disease_present'] = y\n",
    "X_new.head()"
   ]
  },
  {
   "cell_type": "markdown",
   "metadata": {},
   "source": [
    "# EDA"
   ]
  },
  {
   "cell_type": "code",
   "execution_count": null,
   "metadata": {},
   "outputs": [],
   "source": []
  },
  {
   "cell_type": "code",
   "execution_count": 7,
   "metadata": {},
   "outputs": [],
   "source": [
    "numerical_features = ['slope_of_peak_exercise_st_segment', \n",
    "                      'resting_blood_pressure', \n",
    "                      'num_major_vessels',\n",
    "                      'fasting_blood_sugar_gt_120_mg_per_dl',\n",
    "                      'serum_cholesterol_mg_per_dl',\n",
    "                      'oldpeak_eq_st_depression',\n",
    "                      'age',\n",
    "                      'max_heart_rate_achieved']\n",
    "\n",
    "categorical_features = ['thal',\n",
    "                        'chest_pain_type', \n",
    "                        'resting_ekg_results']\n",
    "\n",
    "binary_features = ['sex',\n",
    "                   'exercise_induced_angina']\n",
    "\n"
   ]
  },
  {
   "cell_type": "code",
   "execution_count": 13,
   "metadata": {},
   "outputs": [
    {
     "data": {
      "text/plain": [
       "['slope_of_peak_exercise_st_segment',\n",
       " 'resting_blood_pressure',\n",
       " 'num_major_vessels',\n",
       " 'fasting_blood_sugar_gt_120_mg_per_dl',\n",
       " 'serum_cholesterol_mg_per_dl',\n",
       " 'oldpeak_eq_st_depression',\n",
       " 'age',\n",
       " 'max_heart_rate_achieved',\n",
       " 'heart_disease_present']"
      ]
     },
     "execution_count": 13,
     "metadata": {},
     "output_type": "execute_result"
    }
   ],
   "source": [
    "col_names = numerical_features \n",
    "col_names.append('heart_disease_present')\n",
    "col_names"
   ]
  },
  {
   "cell_type": "code",
   "execution_count": 14,
   "metadata": {},
   "outputs": [
    {
     "data": {
      "text/html": [
       "<div>\n",
       "<style scoped>\n",
       "    .dataframe tbody tr th:only-of-type {\n",
       "        vertical-align: middle;\n",
       "    }\n",
       "\n",
       "    .dataframe tbody tr th {\n",
       "        vertical-align: top;\n",
       "    }\n",
       "\n",
       "    .dataframe thead th {\n",
       "        text-align: right;\n",
       "    }\n",
       "</style>\n",
       "<table border=\"1\" class=\"dataframe\">\n",
       "  <thead>\n",
       "    <tr style=\"text-align: right;\">\n",
       "      <th></th>\n",
       "      <th>slope_of_peak_exercise_st_segment</th>\n",
       "      <th>resting_blood_pressure</th>\n",
       "      <th>num_major_vessels</th>\n",
       "      <th>fasting_blood_sugar_gt_120_mg_per_dl</th>\n",
       "      <th>serum_cholesterol_mg_per_dl</th>\n",
       "      <th>oldpeak_eq_st_depression</th>\n",
       "      <th>age</th>\n",
       "      <th>max_heart_rate_achieved</th>\n",
       "      <th>heart_disease_present</th>\n",
       "    </tr>\n",
       "  </thead>\n",
       "  <tbody>\n",
       "    <tr>\n",
       "      <th>slope_of_peak_exercise_st_segment</th>\n",
       "      <td>1.000000</td>\n",
       "      <td>0.098287</td>\n",
       "      <td>0.076832</td>\n",
       "      <td>0.050199</td>\n",
       "      <td>-0.032348</td>\n",
       "      <td>0.615948</td>\n",
       "      <td>0.169918</td>\n",
       "      <td>-0.418102</td>\n",
       "      <td>0.344224</td>\n",
       "    </tr>\n",
       "    <tr>\n",
       "      <th>resting_blood_pressure</th>\n",
       "      <td>0.098287</td>\n",
       "      <td>1.000000</td>\n",
       "      <td>0.042388</td>\n",
       "      <td>0.166570</td>\n",
       "      <td>0.144881</td>\n",
       "      <td>0.219026</td>\n",
       "      <td>0.284402</td>\n",
       "      <td>-0.017521</td>\n",
       "      <td>0.078506</td>\n",
       "    </tr>\n",
       "    <tr>\n",
       "      <th>num_major_vessels</th>\n",
       "      <td>0.076832</td>\n",
       "      <td>0.042388</td>\n",
       "      <td>1.000000</td>\n",
       "      <td>0.169792</td>\n",
       "      <td>0.098348</td>\n",
       "      <td>0.214062</td>\n",
       "      <td>0.347355</td>\n",
       "      <td>-0.275687</td>\n",
       "      <td>0.421519</td>\n",
       "    </tr>\n",
       "    <tr>\n",
       "      <th>fasting_blood_sugar_gt_120_mg_per_dl</th>\n",
       "      <td>0.050199</td>\n",
       "      <td>0.166570</td>\n",
       "      <td>0.169792</td>\n",
       "      <td>1.000000</td>\n",
       "      <td>0.027560</td>\n",
       "      <td>-0.039055</td>\n",
       "      <td>0.176101</td>\n",
       "      <td>0.058369</td>\n",
       "      <td>0.003379</td>\n",
       "    </tr>\n",
       "    <tr>\n",
       "      <th>serum_cholesterol_mg_per_dl</th>\n",
       "      <td>-0.032348</td>\n",
       "      <td>0.144881</td>\n",
       "      <td>0.098348</td>\n",
       "      <td>0.027560</td>\n",
       "      <td>1.000000</td>\n",
       "      <td>-0.021932</td>\n",
       "      <td>0.236211</td>\n",
       "      <td>-0.071038</td>\n",
       "      <td>0.079775</td>\n",
       "    </tr>\n",
       "    <tr>\n",
       "      <th>oldpeak_eq_st_depression</th>\n",
       "      <td>0.615948</td>\n",
       "      <td>0.219026</td>\n",
       "      <td>0.214062</td>\n",
       "      <td>-0.039055</td>\n",
       "      <td>-0.021932</td>\n",
       "      <td>1.000000</td>\n",
       "      <td>0.189700</td>\n",
       "      <td>-0.341045</td>\n",
       "      <td>0.382930</td>\n",
       "    </tr>\n",
       "    <tr>\n",
       "      <th>age</th>\n",
       "      <td>0.169918</td>\n",
       "      <td>0.284402</td>\n",
       "      <td>0.347355</td>\n",
       "      <td>0.176101</td>\n",
       "      <td>0.236211</td>\n",
       "      <td>0.189700</td>\n",
       "      <td>1.000000</td>\n",
       "      <td>-0.394630</td>\n",
       "      <td>0.138255</td>\n",
       "    </tr>\n",
       "    <tr>\n",
       "      <th>max_heart_rate_achieved</th>\n",
       "      <td>-0.418102</td>\n",
       "      <td>-0.017521</td>\n",
       "      <td>-0.275687</td>\n",
       "      <td>0.058369</td>\n",
       "      <td>-0.071038</td>\n",
       "      <td>-0.341045</td>\n",
       "      <td>-0.394630</td>\n",
       "      <td>1.000000</td>\n",
       "      <td>-0.375352</td>\n",
       "    </tr>\n",
       "    <tr>\n",
       "      <th>heart_disease_present</th>\n",
       "      <td>0.344224</td>\n",
       "      <td>0.078506</td>\n",
       "      <td>0.421519</td>\n",
       "      <td>0.003379</td>\n",
       "      <td>0.079775</td>\n",
       "      <td>0.382930</td>\n",
       "      <td>0.138255</td>\n",
       "      <td>-0.375352</td>\n",
       "      <td>1.000000</td>\n",
       "    </tr>\n",
       "  </tbody>\n",
       "</table>\n",
       "</div>"
      ],
      "text/plain": [
       "                                      slope_of_peak_exercise_st_segment  \\\n",
       "slope_of_peak_exercise_st_segment                              1.000000   \n",
       "resting_blood_pressure                                         0.098287   \n",
       "num_major_vessels                                              0.076832   \n",
       "fasting_blood_sugar_gt_120_mg_per_dl                           0.050199   \n",
       "serum_cholesterol_mg_per_dl                                   -0.032348   \n",
       "oldpeak_eq_st_depression                                       0.615948   \n",
       "age                                                            0.169918   \n",
       "max_heart_rate_achieved                                       -0.418102   \n",
       "heart_disease_present                                          0.344224   \n",
       "\n",
       "                                      resting_blood_pressure  \\\n",
       "slope_of_peak_exercise_st_segment                   0.098287   \n",
       "resting_blood_pressure                              1.000000   \n",
       "num_major_vessels                                   0.042388   \n",
       "fasting_blood_sugar_gt_120_mg_per_dl                0.166570   \n",
       "serum_cholesterol_mg_per_dl                         0.144881   \n",
       "oldpeak_eq_st_depression                            0.219026   \n",
       "age                                                 0.284402   \n",
       "max_heart_rate_achieved                            -0.017521   \n",
       "heart_disease_present                               0.078506   \n",
       "\n",
       "                                      num_major_vessels  \\\n",
       "slope_of_peak_exercise_st_segment              0.076832   \n",
       "resting_blood_pressure                         0.042388   \n",
       "num_major_vessels                              1.000000   \n",
       "fasting_blood_sugar_gt_120_mg_per_dl           0.169792   \n",
       "serum_cholesterol_mg_per_dl                    0.098348   \n",
       "oldpeak_eq_st_depression                       0.214062   \n",
       "age                                            0.347355   \n",
       "max_heart_rate_achieved                       -0.275687   \n",
       "heart_disease_present                          0.421519   \n",
       "\n",
       "                                      fasting_blood_sugar_gt_120_mg_per_dl  \\\n",
       "slope_of_peak_exercise_st_segment                                 0.050199   \n",
       "resting_blood_pressure                                            0.166570   \n",
       "num_major_vessels                                                 0.169792   \n",
       "fasting_blood_sugar_gt_120_mg_per_dl                              1.000000   \n",
       "serum_cholesterol_mg_per_dl                                       0.027560   \n",
       "oldpeak_eq_st_depression                                         -0.039055   \n",
       "age                                                               0.176101   \n",
       "max_heart_rate_achieved                                           0.058369   \n",
       "heart_disease_present                                             0.003379   \n",
       "\n",
       "                                      serum_cholesterol_mg_per_dl  \\\n",
       "slope_of_peak_exercise_st_segment                       -0.032348   \n",
       "resting_blood_pressure                                   0.144881   \n",
       "num_major_vessels                                        0.098348   \n",
       "fasting_blood_sugar_gt_120_mg_per_dl                     0.027560   \n",
       "serum_cholesterol_mg_per_dl                              1.000000   \n",
       "oldpeak_eq_st_depression                                -0.021932   \n",
       "age                                                      0.236211   \n",
       "max_heart_rate_achieved                                 -0.071038   \n",
       "heart_disease_present                                    0.079775   \n",
       "\n",
       "                                      oldpeak_eq_st_depression       age  \\\n",
       "slope_of_peak_exercise_st_segment                     0.615948  0.169918   \n",
       "resting_blood_pressure                                0.219026  0.284402   \n",
       "num_major_vessels                                     0.214062  0.347355   \n",
       "fasting_blood_sugar_gt_120_mg_per_dl                 -0.039055  0.176101   \n",
       "serum_cholesterol_mg_per_dl                          -0.021932  0.236211   \n",
       "oldpeak_eq_st_depression                              1.000000  0.189700   \n",
       "age                                                   0.189700  1.000000   \n",
       "max_heart_rate_achieved                              -0.341045 -0.394630   \n",
       "heart_disease_present                                 0.382930  0.138255   \n",
       "\n",
       "                                      max_heart_rate_achieved  \\\n",
       "slope_of_peak_exercise_st_segment                   -0.418102   \n",
       "resting_blood_pressure                              -0.017521   \n",
       "num_major_vessels                                   -0.275687   \n",
       "fasting_blood_sugar_gt_120_mg_per_dl                 0.058369   \n",
       "serum_cholesterol_mg_per_dl                         -0.071038   \n",
       "oldpeak_eq_st_depression                            -0.341045   \n",
       "age                                                 -0.394630   \n",
       "max_heart_rate_achieved                              1.000000   \n",
       "heart_disease_present                               -0.375352   \n",
       "\n",
       "                                      heart_disease_present  \n",
       "slope_of_peak_exercise_st_segment                  0.344224  \n",
       "resting_blood_pressure                             0.078506  \n",
       "num_major_vessels                                  0.421519  \n",
       "fasting_blood_sugar_gt_120_mg_per_dl               0.003379  \n",
       "serum_cholesterol_mg_per_dl                        0.079775  \n",
       "oldpeak_eq_st_depression                           0.382930  \n",
       "age                                                0.138255  \n",
       "max_heart_rate_achieved                           -0.375352  \n",
       "heart_disease_present                              1.000000  "
      ]
     },
     "execution_count": 14,
     "metadata": {},
     "output_type": "execute_result"
    }
   ],
   "source": [
    "X_new[col_names].corr()"
   ]
  },
  {
   "cell_type": "code",
   "execution_count": null,
   "metadata": {},
   "outputs": [],
   "source": []
  },
  {
   "cell_type": "code",
   "execution_count": null,
   "metadata": {},
   "outputs": [],
   "source": [
    "plt.matshow(X.corr())\n",
    "plt.xticks(range(X.shape[1]), X.columns, rotation=90)\n",
    "plt.yticks(range(X.shape[1]), X.columns)\n",
    "plt.colorbar()\n",
    "plt.show();"
   ]
  },
  {
   "cell_type": "code",
   "execution_count": null,
   "metadata": {},
   "outputs": [],
   "source": [
    "fig, ax = plt.subplots(ncols=1, nrows=len(numerical_features), figsize=(10, 70))\n",
    "\n",
    "for column in numerical_features:\n",
    "    ax_num = list(X[numerical_features]).index(column)\n",
    "    sns.violinplot(y, X[column], ax=ax[ax_num])\n",
    "    \n",
    "plt.tight_layout()"
   ]
  },
  {
   "cell_type": "code",
   "execution_count": null,
   "metadata": {},
   "outputs": [],
   "source": [
    "y[:3]"
   ]
  },
  {
   "cell_type": "code",
   "execution_count": null,
   "metadata": {},
   "outputs": [],
   "source": [
    "sex_idx = X[X['sex'] == 0].index"
   ]
  },
  {
   "cell_type": "code",
   "execution_count": null,
   "metadata": {},
   "outputs": [],
   "source": [
    "#y[sex_idx]"
   ]
  },
  {
   "cell_type": "code",
   "execution_count": null,
   "metadata": {},
   "outputs": [],
   "source": [
    "X.groupby('sex').get_group(0).head()"
   ]
  },
  {
   "cell_type": "markdown",
   "metadata": {},
   "source": [
    "# Transformers"
   ]
  },
  {
   "cell_type": "code",
   "execution_count": 46,
   "metadata": {},
   "outputs": [],
   "source": [
    "class ColumnSelectTransformer(BaseEstimator, TransformerMixin):\n",
    "    def __init__(self, columns):\n",
    "        self.columns = columns\n",
    "\n",
    "    def fit(self, X, y=None):\n",
    "        return self\n",
    "\n",
    "    def transform(self, X):\n",
    "        if not isinstance(X, pd.DataFrame):\n",
    "            X = pd.DataFrame(X)\n",
    "        return X[self.columns]\n",
    "    \n",
    "class CustomLabelEncoder(BaseEstimator, TransformerMixin):\n",
    "    def fit(self, X, y=None):\n",
    "        self.labelers = {col: LabelEncoder().fit(X[col]) for col in X}\n",
    "        return self\n",
    "    \n",
    "    def transform(self, X):\n",
    "        return pd.DataFrame({col: self.labelers[col].transform(X[col])\n",
    "                            for col in X})"
   ]
  },
  {
   "cell_type": "code",
   "execution_count": null,
   "metadata": {},
   "outputs": [],
   "source": [
    "list(X.columns)"
   ]
  },
  {
   "cell_type": "code",
   "execution_count": 47,
   "metadata": {},
   "outputs": [],
   "source": [
    "class CustomOneHot(BaseEstimator, TransformerMixin):\n",
    "    def fit(self, X, y=None):\n",
    "        self.columns = list(X.columns)\n",
    "        return self\n",
    "    \n",
    "    def transform(self, X):\n",
    "        return pd.get_dummies(X, columns = self.columns)"
   ]
  },
  {
   "cell_type": "code",
   "execution_count": null,
   "metadata": {},
   "outputs": [],
   "source": [
    "180*0.05/3"
   ]
  },
  {
   "cell_type": "code",
   "execution_count": 48,
   "metadata": {},
   "outputs": [],
   "source": [
    "from sklearn.ensemble import IsolationForest\n",
    "\n",
    "\n",
    "class CustomOutlier(BaseEstimator, TransformerMixin):\n",
    "    def __init__(self, estimators=100, contam = 0.2):\n",
    "        self.estimators = estimators\n",
    "        self.contam = contam\n",
    "        \n",
    "    def fit(self, X, y):\n",
    "        clf = IsolationForest(n_estimators=self.estimators, contamination=self.contam)\n",
    "        clf.fit(X)\n",
    "        self.y_pred = clf.predict(X)\n",
    "        self.y = y[self.y_pred==1 ]\n",
    "        return self\n",
    "    \n",
    "    def transform(self, X):\n",
    "        return self.y, X.loc[X.index[self.y_pred==1]]"
   ]
  },
  {
   "cell_type": "code",
   "execution_count": null,
   "metadata": {},
   "outputs": [],
   "source": [
    "cc = CustomOutlier()\n",
    "yy, XX = cc.fit_transform(X[numerical_features], y)\n"
   ]
  },
  {
   "cell_type": "code",
   "execution_count": null,
   "metadata": {},
   "outputs": [],
   "source": [
    "yy.head()"
   ]
  },
  {
   "cell_type": "markdown",
   "metadata": {},
   "source": [
    "# Attempt 1: Logistic Regression"
   ]
  },
  {
   "cell_type": "code",
   "execution_count": null,
   "metadata": {},
   "outputs": [],
   "source": [
    "# For categorical features\n",
    "cat_pipe = Pipeline([\n",
    "    ('cst', ColumnSelectTransformer(categorical_features)),\n",
    "    ('cle', CustomLabelEncoder()),\n",
    "    ('ohe', OneHotEncoder(sparse=False))\n",
    "])\n",
    "\n",
    "# For features we don't want to transform\n",
    "passthrough_pipe = Pipeline([\n",
    "    ('cst', ColumnSelectTransformer(numerical_features + binary_features))\n",
    "])\n",
    "\n",
    "feat_u = FeatureUnion([\n",
    "    ('cat_pipe', cat_pipe),\n",
    "    ('passthrough_pipe', passthrough_pipe)\n",
    "])\n",
    "\n",
    "full_model = Pipeline([\n",
    "    ('feat_u', feat_u),\n",
    "    ('lr', LogisticRegression())\n",
    "])\n",
    "\n",
    "full_model.fit(X, y)"
   ]
  },
  {
   "cell_type": "code",
   "execution_count": null,
   "metadata": {},
   "outputs": [],
   "source": [
    "X_test = pd.read_csv('data_heart/test_values.csv', index_col='patient_id')\n",
    "submission = pd.read_csv('data_heart/submission_format.csv')\n",
    "\n",
    "y_pred = full_model.predict_proba(X_test)\n",
    "\n",
    "sum(y_pred[0])\n",
    "# submission\n",
    "# print('ypred')\n",
    "# print(y_pred)\n",
    "# submission.heart_disease_present = y_pred\n",
    "\n",
    "# print('subm')\n",
    "# print(submission)\n",
    "#submission.to_csv('2019-08-14_submission.csv', index=False)"
   ]
  },
  {
   "cell_type": "markdown",
   "metadata": {},
   "source": [
    "# Attempt 2: Logistic with PCA"
   ]
  },
  {
   "cell_type": "code",
   "execution_count": null,
   "metadata": {},
   "outputs": [],
   "source": [
    "# For categorical features\n",
    "cat_pipe = Pipeline([\n",
    "    ('cst', ColumnSelectTransformer(categorical_features)),\n",
    "    ('cle', CustomLabelEncoder()),\n",
    "    ('ohe', OneHotEncoder(sparse=False))\n",
    "])\n",
    "\n",
    "# For features we don't want to transform\n",
    "passthrough_pipe = Pipeline([\n",
    "    ('cst', ColumnSelectTransformer(numerical_features + binary_features))\n",
    "])\n",
    "\n",
    "feat_u = FeatureUnion([\n",
    "    ('cat_pipe', cat_pipe),\n",
    "    ('passthrough_pipe', passthrough_pipe)\n",
    "])\n",
    "\n",
    "full_model = Pipeline([\n",
    "    ('feat_u', feat_u),\n",
    "    ('pca', PCA(n_components=4)),\n",
    "    ('lr', LogisticRegression())\n",
    "])\n",
    "\n",
    "full_model.fit(X, y)"
   ]
  },
  {
   "cell_type": "code",
   "execution_count": null,
   "metadata": {},
   "outputs": [],
   "source": [
    "full_model.named_steps['pca'].explained_variance_ratio_"
   ]
  },
  {
   "cell_type": "code",
   "execution_count": null,
   "metadata": {},
   "outputs": [],
   "source": [
    "X_test = pd.read_csv('data/test_values.csv', index_col='patient_id')\n",
    "submission = pd.read_csv('data/submission_format.csv')\n",
    "\n",
    "y_pred = full_model.predict_proba(X_test)\n",
    "submission.heart_disease_present = y_pred\n",
    "\n",
    "submission.to_csv('2019-08-14a_submission.csv', index=False)"
   ]
  },
  {
   "cell_type": "markdown",
   "metadata": {},
   "source": [
    "# Logistic Regression, reduced features"
   ]
  },
  {
   "cell_type": "code",
   "execution_count": null,
   "metadata": {},
   "outputs": [],
   "source": [
    "simple_lr = LogisticRegression()"
   ]
  },
  {
   "cell_type": "code",
   "execution_count": null,
   "metadata": {},
   "outputs": [],
   "source": [
    "reduced_cols = ['num_major_vessels', \n",
    "                 'slope_of_peak_exercise_st_segment',\n",
    "                 'max_heart_rate_achieved']\n",
    "\n",
    "simple_lr.fit(X[reduced_cols],\n",
    "             y)\n",
    "\n",
    "y_pred = simple_lr.predict(X[reduced_cols])\n",
    "log_loss(y, y_pred, labels = None)"
   ]
  },
  {
   "cell_type": "code",
   "execution_count": null,
   "metadata": {},
   "outputs": [],
   "source": []
  },
  {
   "cell_type": "code",
   "execution_count": null,
   "metadata": {},
   "outputs": [],
   "source": [
    "X.columns"
   ]
  },
  {
   "cell_type": "code",
   "execution_count": null,
   "metadata": {},
   "outputs": [],
   "source": [
    "param_grid = {'max_depth': range(3,10),\n",
    "              'min_samples_split': range(3,11,2),\n",
    "              'min_samples_leaf': range(3,11,2)}\n",
    "\n",
    "gs = GridSearchCV(RandomForestClassifier(),\n",
    "                  param_grid=param_grid,\n",
    "                  n_jobs=3,\n",
    "                  cv=3,\n",
    "                  verbose=1)\n"
   ]
  },
  {
   "cell_type": "code",
   "execution_count": null,
   "metadata": {},
   "outputs": [],
   "source": [
    "gs.fit(X, y)"
   ]
  },
  {
   "cell_type": "code",
   "execution_count": null,
   "metadata": {},
   "outputs": [],
   "source": [
    "gs.best_params_"
   ]
  },
  {
   "cell_type": "code",
   "execution_count": null,
   "metadata": {},
   "outputs": [],
   "source": [
    "y_pred = gs.predict(X)"
   ]
  },
  {
   "cell_type": "code",
   "execution_count": null,
   "metadata": {},
   "outputs": [],
   "source": [
    "log_loss(y, y_pred, labels = None)"
   ]
  },
  {
   "cell_type": "markdown",
   "metadata": {},
   "source": [
    "# Attempt 3, Logistic with PCA, Grid Search, Standard Scaler"
   ]
  },
  {
   "cell_type": "code",
   "execution_count": null,
   "metadata": {},
   "outputs": [],
   "source": [
    "passthrough_pipe = Pipeline([\n",
    "    ('cst', ColumnSelectTransformer(numerical_features)),\n",
    "    ('col', CustomOutlier())\n",
    "])"
   ]
  },
  {
   "cell_type": "code",
   "execution_count": null,
   "metadata": {},
   "outputs": [],
   "source": [
    "from sklearn.preprocessing import StandardScaler\n",
    "from sklearn.linear_model import Ridge\n",
    "from sklearn.decomposition import NMF\n",
    "from sklearn.svm import SVC\n",
    "from sklearn.decomposition import TruncatedSVD\n",
    "from sklearn.feature_selection import SelectKBest, chi2\n",
    "from sklearn.model_selection import StratifiedKFold\n",
    "\n",
    "numerical_features = [\n",
    "                    'slope_of_peak_exercise_st_segment', \n",
    "                      'resting_blood_pressure', \n",
    "                      'num_major_vessels',\n",
    "                      'fasting_blood_sugar_gt_120_mg_per_dl',\n",
    "                      'serum_cholesterol_mg_per_dl',\n",
    "                      'oldpeak_eq_st_depression',\n",
    "                      #'age',\n",
    "                      'max_heart_rate_achieved']\n",
    "\n",
    "categorical_features = [#'thal',\n",
    "                        'chest_pain_type'\n",
    "                        #, \n",
    "                        #'resting_ekg_results'\n",
    "                        ]\n",
    "\n",
    "binary_features = [\n",
    "                    #'sex'\n",
    "                   'exercise_induced_angina']\n",
    "\n",
    "\n",
    "# For categorical features\n",
    "\n",
    "# cat_pipe = Pipeline([\n",
    "#      ('cst', ColumnSelectTransformer(categorical_features)),\n",
    "#      ('cle', CustomOneHot())\n",
    "#      ])\n",
    "    \n",
    "# For features we don't want to transform\n",
    "passthrough_pipe = Pipeline([\n",
    "    ('cst', ColumnSelectTransformer(numerical_features))\n",
    "   \n",
    "])\n",
    "\n",
    "feat_u = FeatureUnion([\n",
    "    #('cat_pipe', cat_pipe)\n",
    "    #,\n",
    "    ('passthrough_pipe', passthrough_pipe)\n",
    "])\n",
    "\n",
    "Xt = feat_u.fit_transform(X)\n",
    "\n",
    "model = NMF( init='random', random_state=0)\n",
    "model1 = TruncatedSVD(random_state=0)\n",
    "model3 = PCA()\n",
    "# feat_u2 = FeatureUnion([\n",
    "#     ('dimred', model),\n",
    "#     ('mod2', SelectKBest (chi2, k = 1))\n",
    "# ])\n",
    "\n",
    "full_model = Pipeline([\n",
    "  #  ('sc', StandardScaler()),\n",
    "   # ('dimred', model3),\n",
    "    ('lr',  SVC(probability = True))\n",
    "    \n",
    "])\n",
    "\n",
    "param_grid = [\n",
    "    {\n",
    "              #'dimred__n_components' : range(3,6),\n",
    "              'lr__C': np.logspace(-8, 3, 20),\n",
    "              'lr__kernel' : ['rbf'],\n",
    "              'lr__gamma' : np.logspace(-8, 3, 20)\n",
    "              \n",
    "              }\n",
    "#     ,\n",
    "#               {\n",
    "#               'dimred__n_components' : range(3,7),\n",
    "#               'lr__C': np.logspace(-3, 3, 20),\n",
    "#               'lr__kernel' : ['poly'],\n",
    "#               'lr__degree' : range(3, 5)\n",
    "              \n",
    "#               }\n",
    "              ]\n",
    "\n",
    "\n",
    "# full_model = Pipeline([\n",
    "#     ('dimred', model3),\n",
    "#     ('lr', LogisticRegression())\n",
    "# ])\n",
    "\n",
    "# param_grid = {\n",
    "              \n",
    "#               'lr__C': np.logspace(-3, 3, 20),\n",
    "#               'lr__fit_intercept' : [True, False]}\n",
    "\n",
    "#skf = StratifiedKFold(n_splits=2)\n",
    "\n",
    "gs = GridSearchCV(full_model,\n",
    "                  param_grid=param_grid,\n",
    "                  scoring = 'neg_log_loss',\n",
    "                  n_jobs=3,\n",
    "                  cv=2,\n",
    "                  verbose=1)\n",
    "\n",
    "gs.fit(Xt,y.values)\n",
    "gs.best_score_"
   ]
  },
  {
   "cell_type": "code",
   "execution_count": null,
   "metadata": {},
   "outputs": [],
   "source": [
    "gs.best_score_"
   ]
  },
  {
   "cell_type": "code",
   "execution_count": null,
   "metadata": {},
   "outputs": [],
   "source": [
    "X_test = pd.read_csv('data_heart/test_values.csv', index_col='patient_id')\n",
    "submission = pd.read_csv('data_heart/submission_format.csv')\n",
    "Xtt = feat_u.fit_transform(X_test)\n",
    "y_pred = gs.predict_proba(Xtt)[:,1]\n",
    "submission.heart_disease_present = y_pred\n",
    "\n",
    "submission.to_csv('2019-08-21_submission.csv', index=False)"
   ]
  },
  {
   "cell_type": "markdown",
   "metadata": {},
   "source": [
    "# Attempt 4.  Model fitting based on Categorical Variable ( sex )"
   ]
  },
  {
   "cell_type": "code",
   "execution_count": null,
   "metadata": {},
   "outputs": [],
   "source": [
    "from sklearn.preprocessing import StandardScaler\n",
    "from sklearn.linear_model import Ridge\n",
    "from sklearn.decomposition import NMF\n",
    "from sklearn.svm import SVC\n",
    "from sklearn.decomposition import TruncatedSVD\n",
    "from sklearn.feature_selection import SelectKBest, chi2\n",
    "from sklearn.ensemble import AdaBoostClassifier\n",
    "from sklearn.tree import DecisionTreeClassifier"
   ]
  },
  {
   "cell_type": "code",
   "execution_count": null,
   "metadata": {},
   "outputs": [],
   "source": [
    "X = pd.read_csv('data_heart/train_values.csv', index_col='patient_id')\n",
    "y = pd.read_csv('data_heart/train_labels.csv', index_col='patient_id')['heart_disease_present']\n",
    "X_test = pd.read_csv('data_heart/test_values.csv', index_col='patient_id')\n",
    "\n",
    "X_male = X[X['sex'] == 0]\n",
    "\n",
    "X_test_male = X_test[X_test['sex'] == 0]\n",
    "\n",
    "sex_idx_male = X_male.index\n",
    "y_male = y[sex_idx_male]\n",
    " "
   ]
  },
  {
   "cell_type": "code",
   "execution_count": null,
   "metadata": {},
   "outputs": [],
   "source": [
    "def predict_probs(X_train, y_train, X_test):\n",
    "    \n",
    "    numerical_features = [\n",
    "                        'slope_of_peak_exercise_st_segment', \n",
    "                        #  'resting_blood_pressure', \n",
    "                          'num_major_vessels',\n",
    "                          'fasting_blood_sugar_gt_120_mg_per_dl',\n",
    "                          'serum_cholesterol_mg_per_dl',\n",
    "                          'oldpeak_eq_st_depression',\n",
    "                          #'age',\n",
    "                          'max_heart_rate_achieved'\n",
    "                         ]\n",
    "\n",
    "    categorical_features = ['thal',\n",
    "                            'chest_pain_type'\n",
    "                            , \n",
    "                            'resting_ekg_results'\n",
    "                            ]\n",
    "\n",
    "    binary_features = [\n",
    "                        'exercise_induced_angina'\n",
    "                    ]\n",
    "\n",
    "    #For categorical features\n",
    "    cat_pipe = Pipeline([\n",
    "         ('cst', ColumnSelectTransformer(categorical_features)),\n",
    "         ('cle', CustomOneHot())\n",
    "     ])\n",
    "\n",
    "    # For features we don't want to transform\n",
    "    passthrough_pipe = Pipeline([\n",
    "        ('cst', ColumnSelectTransformer(numerical_features + binary_features))\n",
    "    ])\n",
    "\n",
    "    feat_u = FeatureUnion([\n",
    "        ('cat_pipe', cat_pipe),\n",
    "        ('passthrough_pipe', passthrough_pipe)\n",
    "    ])\n",
    "\n",
    "    Xt = feat_u.fit_transform(X_train)\n",
    "\n",
    "    model = NMF( init='random', random_state=0)\n",
    "    model1 = TruncatedSVD( random_state=0)\n",
    "    model2 = PCA()\n",
    "\n",
    "    cl_dt = DecisionTreeClassifier(max_depth=7, random_state=0)\n",
    "    clf = AdaBoostClassifier(cl_dt, random_state=0)\n",
    "\n",
    "\n",
    "\n",
    "\n",
    "    full_model = Pipeline([\n",
    "        #('sc', StandardScaler()),\n",
    "        #('feat', model2),\n",
    "        #('lr', SVC(probability = True, random_state = 0))\n",
    "        #('lr', LogisticRegression())\n",
    "        ('lr', clf)\n",
    "\n",
    "    ])\n",
    "\n",
    "\n",
    "    # param_grid = [{ \n",
    "    #                 #'feat__n_components' : range(2,6),\n",
    "\n",
    "    #               'lr__C': np.logspace(-8, 3, 20)\n",
    "    #               ,\n",
    "    #               'lr__kernel':   ['rbf'],\n",
    "    #               'lr__gamma' : np.logspace(-8, 3, 20)\n",
    "    #               }\n",
    "    #               {\n",
    "\n",
    "    #                   'lr__C': np.logspace(-3, 3, 20),\n",
    "    #                   'lr__kernel' : ['poly'],\n",
    "    #                   'lr__degree' : range(3,10)\n",
    "    #               }\n",
    "    #              ]\n",
    "\n",
    "\n",
    "    param_grid = [{\n",
    "                    'lr__learning_rate': np.logspace(-10,0, 20),\n",
    "                    'lr__n_estimators' : [7]\n",
    "\n",
    "                    }]\n",
    "    gs = GridSearchCV(full_model,\n",
    "                      param_grid=param_grid,\n",
    "                      scoring = 'neg_log_loss',\n",
    "                      n_jobs=3,\n",
    "                      cv=2,\n",
    "\n",
    "                      verbose=1)\n",
    "\n",
    "    gs.fit(Xt,y_train.values)\n",
    "    gs.best_score_\n",
    "    \n",
    "    Xtt = feat_u.fit_transform(X_test)\n",
    "    y_pred = gs.predict_proba(Xtt)[:,1]\n",
    "    \n",
    "    return gs.best_score_, y_pred"
   ]
  },
  {
   "cell_type": "code",
   "execution_count": null,
   "metadata": {},
   "outputs": [],
   "source": [
    "score, y_prob = predict_probs(X, y, X_test)\n",
    "\n",
    "print('score = ', score)\n",
    "print('probs = ', y_prob)"
   ]
  },
  {
   "cell_type": "code",
   "execution_count": null,
   "metadata": {},
   "outputs": [],
   "source": [
    "submission = pd.read_csv('data_heart/submission_format.csv')\n",
    "submission.heart_disease_present = y_prob\n",
    "submission.to_csv('2019-08-23a_submission.csv', index=False)"
   ]
  },
  {
   "cell_type": "code",
   "execution_count": null,
   "metadata": {},
   "outputs": [],
   "source": [
    "X_test = pd.read_csv('data_heart/test_values.csv', index_col='patient_id')\n",
    "submission = pd.read_csv('data_heart/submission_format.csv')\n",
    "Xtt = feat_u.fit_transform(X_test)\n",
    "y_pred = gs.predict_proba(Xtt)[:,1]\n",
    "submission.heart_disease_present = y_pred\n",
    "\n",
    "submission.to_csv('2019-08-21_submission.csv', index=False)"
   ]
  },
  {
   "cell_type": "code",
   "execution_count": null,
   "metadata": {},
   "outputs": [],
   "source": [
    "gs.best_params_"
   ]
  },
  {
   "cell_type": "markdown",
   "metadata": {},
   "source": [
    "# Attempt 5: Anomaly"
   ]
  },
  {
   "cell_type": "code",
   "execution_count": null,
   "metadata": {},
   "outputs": [],
   "source": [
    "X_test = pd.read_csv('data_heart/test_values.csv', index_col='patient_id')"
   ]
  },
  {
   "cell_type": "code",
   "execution_count": null,
   "metadata": {},
   "outputs": [],
   "source": [
    "# passthrough_pipe = Pipeline([\n",
    "#     ('cst', ColumnSelectTransformer(numerical_features))\n",
    "   \n",
    "# ])\n",
    "# Xt = passthrough_pipe.fit_transform(X)\n",
    "# Xt"
   ]
  },
  {
   "cell_type": "code",
   "execution_count": null,
   "metadata": {},
   "outputs": [],
   "source": [
    "from sklearn.linear_model import Ridge\n",
    "from sklearn.decomposition import NMF\n",
    "from sklearn.svm import SVC\n",
    "from sklearn.decomposition import TruncatedSVD\n",
    "from sklearn.feature_selection import SelectKBest, chi2\n",
    "from sklearn.model_selection import StratifiedKFold\n",
    "\n",
    "numerical_features = [\n",
    "                    'slope_of_peak_exercise_st_segment', \n",
    "                      'resting_blood_pressure', \n",
    "                      'num_major_vessels',\n",
    "                      'fasting_blood_sugar_gt_120_mg_per_dl',\n",
    "                      'serum_cholesterol_mg_per_dl',\n",
    "                      'oldpeak_eq_st_depression',\n",
    "                      'age',\n",
    "                      'max_heart_rate_achieved'\n",
    "]\n",
    "\n",
    "categorical_features = [#'thal',\n",
    "                        'chest_pain_type'\n",
    "                        #, \n",
    "                        #'resting_ekg_results'\n",
    "                        ]\n",
    "\n",
    "binary_features = [\n",
    "                    #'sex'\n",
    "                   'exercise_induced_angina']\n",
    "\n",
    "\n",
    "# For categorical features\n",
    "\n",
    "# cat_pipe = Pipeline([\n",
    "#      ('cst', ColumnSelectTransformer(categorical_features)),\n",
    "#      ('cle', CustomOneHot())\n",
    "#      ])\n",
    "    \n",
    "# For features we don't want to transform\n",
    "passthrough_pipe = Pipeline([\n",
    "    ('cst', ColumnSelectTransformer(numerical_features))\n",
    "   \n",
    "])\n",
    "\n",
    "feat_u = FeatureUnion([\n",
    "    #('cat_pipe', cat_pipe)\n",
    "    #,\n",
    "    ('passthrough_pipe', passthrough_pipe)\n",
    "])\n",
    "\n",
    "Xt = passthrough_pipe.fit_transform(X)\n",
    "cc = CustomOutlier(200, 0.1/9)\n",
    "yy, Xt = cc.fit_transform(Xt, y)\n",
    "\n",
    "\n",
    "model = NMF( init='random', random_state=0)\n",
    "model1 = TruncatedSVD(random_state=0)\n",
    "model3 = PCA()\n",
    "# feat_u2 = FeatureUnion([\n",
    "#     ('dimred', model),\n",
    "#     ('mod2', SelectKBest (chi2, k = 1))\n",
    "# ])\n",
    "\n",
    "full_model = Pipeline([\n",
    "  #  ('sc', StandardScaler()),\n",
    "   # ('dimred', model3),\n",
    "    ('lr',  SVC(probability = True))\n",
    "    \n",
    "])\n",
    "\n",
    "param_grid = [\n",
    "    {\n",
    "              #'dimred__n_components' : range(3,6),\n",
    "              'lr__C': np.logspace(-8, 3, 20),\n",
    "              'lr__kernel' : ['rbf'],\n",
    "              'lr__gamma' : np.logspace(-8, 3, 20)\n",
    "              \n",
    "              }\n",
    "#     ,\n",
    "#               {\n",
    "#               'dimred__n_components' : range(3,7),\n",
    "#               'lr__C': np.logspace(-3, 3, 20),\n",
    "#               'lr__kernel' : ['poly'],\n",
    "#               'lr__degree' : range(3, 5)\n",
    "              \n",
    "#               }\n",
    "              ]\n",
    "\n",
    "\n",
    "# full_model = Pipeline([\n",
    "#     ('dimred', model3),\n",
    "#     ('lr', LogisticRegression())\n",
    "# ])\n",
    "\n",
    "# param_grid = {\n",
    "              \n",
    "#               'lr__C': np.logspace(-3, 3, 20),\n",
    "#               'lr__fit_intercept' : [True, False]}\n",
    "\n",
    "#skf = StratifiedKFold(n_splits=2)\n",
    "\n",
    "gs = GridSearchCV(full_model,\n",
    "                  param_grid=param_grid,\n",
    "                  scoring = 'neg_log_loss',\n",
    "                  n_jobs=3,\n",
    "                  cv=2,\n",
    "                  verbose=1)\n",
    "\n",
    "gs.fit(Xt,yy.values)\n",
    "print('score' , gs.best_score_)\n",
    "\n",
    "\n",
    "Xtt = passthrough_pipe.fit_transform(X_test)\n",
    "y_pred_prob = gs.predict_proba(Xtt)[:,1]\n",
    "\n",
    "submission = pd.read_csv('data_heart/submission_format.csv')\n",
    "submission.heart_disease_present = y_pred_prob\n",
    "submission.to_csv('2019-08-25_submission.csv', index=False)"
   ]
  },
  {
   "cell_type": "markdown",
   "metadata": {},
   "source": [
    "# Attempt 6:  Random Forest"
   ]
  },
  {
   "cell_type": "code",
   "execution_count": 3,
   "metadata": {},
   "outputs": [],
   "source": [
    "X = pd.read_csv('data_heart/train_values.csv', index_col='patient_id')\n",
    "y = pd.read_csv('data_heart/train_labels.csv', index_col='patient_id')['heart_disease_present']\n",
    "X_test = pd.read_csv('data_heart/test_values.csv', index_col='patient_id')\n",
    "\n",
    "X_male = X[X['sex'] == 0]\n",
    "sex_idx_male = X_male.index\n",
    "y_male = y[sex_idx_male]\n",
    "X_female = X[X['sex'] == 1]\n",
    "sex_idx_female = X_female.index\n",
    "y_female = y[sex_idx_female]\n",
    "\n",
    "X_test_male = X_test[X_test['sex'] == 0]\n",
    "sex_test_idx_male = X_test_male.index \n",
    "y_male_test = pd.DataFrame({'heart_disease_present': np.zeros(X_test_male.shape[0])}, index = sex_test_idx_male)\n",
    "X_test_female = X_test[X_test['sex'] == 1]\n",
    "sex_test_idx_female = X_test_female.index \n",
    "y_female_test = pd.DataFrame({'heart_disease_present': np.zeros(X_test_female.shape[0])}, index = sex_test_idx_female)\n"
   ]
  },
  {
   "cell_type": "code",
   "execution_count": null,
   "metadata": {},
   "outputs": [],
   "source": [
    "X_male.shape"
   ]
  },
  {
   "cell_type": "code",
   "execution_count": 11,
   "metadata": {},
   "outputs": [],
   "source": [
    "X1 = X_female.copy()"
   ]
  },
  {
   "cell_type": "code",
   "execution_count": 42,
   "metadata": {},
   "outputs": [
    {
     "data": {
      "text/html": [
       "<div>\n",
       "<style>\n",
       "    .dataframe thead tr:only-child th {\n",
       "        text-align: right;\n",
       "    }\n",
       "\n",
       "    .dataframe thead th {\n",
       "        text-align: left;\n",
       "    }\n",
       "\n",
       "    .dataframe tbody tr th {\n",
       "        vertical-align: top;\n",
       "    }\n",
       "</style>\n",
       "<table border=\"1\" class=\"dataframe\">\n",
       "  <thead>\n",
       "    <tr style=\"text-align: right;\">\n",
       "      <th></th>\n",
       "      <th>slope_of_peak_exercise_st_segment</th>\n",
       "      <th>thal</th>\n",
       "      <th>resting_blood_pressure</th>\n",
       "      <th>chest_pain_type</th>\n",
       "      <th>num_major_vessels</th>\n",
       "      <th>fasting_blood_sugar_gt_120_mg_per_dl</th>\n",
       "      <th>resting_ekg_results</th>\n",
       "      <th>serum_cholesterol_mg_per_dl</th>\n",
       "      <th>oldpeak_eq_st_depression</th>\n",
       "      <th>sex</th>\n",
       "      <th>age</th>\n",
       "      <th>max_heart_rate_achieved</th>\n",
       "      <th>exercise_induced_angina</th>\n",
       "      <th>heart_d</th>\n",
       "    </tr>\n",
       "    <tr>\n",
       "      <th>patient_id</th>\n",
       "      <th></th>\n",
       "      <th></th>\n",
       "      <th></th>\n",
       "      <th></th>\n",
       "      <th></th>\n",
       "      <th></th>\n",
       "      <th></th>\n",
       "      <th></th>\n",
       "      <th></th>\n",
       "      <th></th>\n",
       "      <th></th>\n",
       "      <th></th>\n",
       "      <th></th>\n",
       "      <th></th>\n",
       "    </tr>\n",
       "  </thead>\n",
       "  <tbody>\n",
       "    <tr>\n",
       "      <th>0z64un</th>\n",
       "      <td>1</td>\n",
       "      <td>normal</td>\n",
       "      <td>128</td>\n",
       "      <td>2</td>\n",
       "      <td>0</td>\n",
       "      <td>0</td>\n",
       "      <td>2</td>\n",
       "      <td>308</td>\n",
       "      <td>0.0</td>\n",
       "      <td>1</td>\n",
       "      <td>45</td>\n",
       "      <td>170</td>\n",
       "      <td>0</td>\n",
       "      <td>0</td>\n",
       "    </tr>\n",
       "    <tr>\n",
       "      <th>yt1s1x</th>\n",
       "      <td>1</td>\n",
       "      <td>normal</td>\n",
       "      <td>125</td>\n",
       "      <td>4</td>\n",
       "      <td>3</td>\n",
       "      <td>0</td>\n",
       "      <td>2</td>\n",
       "      <td>304</td>\n",
       "      <td>0.0</td>\n",
       "      <td>1</td>\n",
       "      <td>77</td>\n",
       "      <td>162</td>\n",
       "      <td>1</td>\n",
       "      <td>1</td>\n",
       "    </tr>\n",
       "    <tr>\n",
       "      <th>l2xjde</th>\n",
       "      <td>1</td>\n",
       "      <td>reversible_defect</td>\n",
       "      <td>152</td>\n",
       "      <td>4</td>\n",
       "      <td>0</td>\n",
       "      <td>0</td>\n",
       "      <td>0</td>\n",
       "      <td>223</td>\n",
       "      <td>0.0</td>\n",
       "      <td>1</td>\n",
       "      <td>40</td>\n",
       "      <td>181</td>\n",
       "      <td>0</td>\n",
       "      <td>1</td>\n",
       "    </tr>\n",
       "    <tr>\n",
       "      <th>oyt4ek</th>\n",
       "      <td>3</td>\n",
       "      <td>reversible_defect</td>\n",
       "      <td>178</td>\n",
       "      <td>1</td>\n",
       "      <td>0</td>\n",
       "      <td>0</td>\n",
       "      <td>2</td>\n",
       "      <td>270</td>\n",
       "      <td>4.2</td>\n",
       "      <td>1</td>\n",
       "      <td>59</td>\n",
       "      <td>145</td>\n",
       "      <td>0</td>\n",
       "      <td>0</td>\n",
       "    </tr>\n",
       "    <tr>\n",
       "      <th>ldukkw</th>\n",
       "      <td>1</td>\n",
       "      <td>normal</td>\n",
       "      <td>130</td>\n",
       "      <td>3</td>\n",
       "      <td>0</td>\n",
       "      <td>0</td>\n",
       "      <td>0</td>\n",
       "      <td>180</td>\n",
       "      <td>0.0</td>\n",
       "      <td>1</td>\n",
       "      <td>42</td>\n",
       "      <td>150</td>\n",
       "      <td>0</td>\n",
       "      <td>0</td>\n",
       "    </tr>\n",
       "  </tbody>\n",
       "</table>\n",
       "</div>"
      ],
      "text/plain": [
       "            slope_of_peak_exercise_st_segment               thal  \\\n",
       "patient_id                                                         \n",
       "0z64un                                      1             normal   \n",
       "yt1s1x                                      1             normal   \n",
       "l2xjde                                      1  reversible_defect   \n",
       "oyt4ek                                      3  reversible_defect   \n",
       "ldukkw                                      1             normal   \n",
       "\n",
       "            resting_blood_pressure  chest_pain_type  num_major_vessels  \\\n",
       "patient_id                                                               \n",
       "0z64un                         128                2                  0   \n",
       "yt1s1x                         125                4                  3   \n",
       "l2xjde                         152                4                  0   \n",
       "oyt4ek                         178                1                  0   \n",
       "ldukkw                         130                3                  0   \n",
       "\n",
       "            fasting_blood_sugar_gt_120_mg_per_dl  resting_ekg_results  \\\n",
       "patient_id                                                              \n",
       "0z64un                                         0                    2   \n",
       "yt1s1x                                         0                    2   \n",
       "l2xjde                                         0                    0   \n",
       "oyt4ek                                         0                    2   \n",
       "ldukkw                                         0                    0   \n",
       "\n",
       "            serum_cholesterol_mg_per_dl  oldpeak_eq_st_depression  sex  age  \\\n",
       "patient_id                                                                    \n",
       "0z64un                              308                       0.0    1   45   \n",
       "yt1s1x                              304                       0.0    1   77   \n",
       "l2xjde                              223                       0.0    1   40   \n",
       "oyt4ek                              270                       4.2    1   59   \n",
       "ldukkw                              180                       0.0    1   42   \n",
       "\n",
       "            max_heart_rate_achieved  exercise_induced_angina  heart_d  \n",
       "patient_id                                                             \n",
       "0z64un                          170                        0        0  \n",
       "yt1s1x                          162                        1        1  \n",
       "l2xjde                          181                        0        1  \n",
       "oyt4ek                          145                        0        0  \n",
       "ldukkw                          150                        0        0  "
      ]
     },
     "execution_count": 42,
     "metadata": {},
     "output_type": "execute_result"
    }
   ],
   "source": [
    "X1['heart_d'] = y_female.values\n",
    "X1.head()"
   ]
  },
  {
   "cell_type": "code",
   "execution_count": 40,
   "metadata": {},
   "outputs": [
    {
     "data": {
      "text/plain": [
       "0    25\n",
       "1    21\n",
       "2    14\n",
       "3     9\n",
       "Name: num_major_vessels, dtype: int64"
      ]
     },
     "execution_count": 40,
     "metadata": {},
     "output_type": "execute_result"
    }
   ],
   "source": [
    "X1[X1['heart_d']==1]['num_major_vessels'].value_counts()"
   ]
  },
  {
   "cell_type": "code",
   "execution_count": 43,
   "metadata": {},
   "outputs": [],
   "source": [
    "from sklearn.model_selection import train_test_split\n",
    "\n",
    "X_train, X_test1, y_train, y_test1 = train_test_split(X_female, y_female, test_size=0.2, random_state=42)"
   ]
  },
  {
   "cell_type": "code",
   "execution_count": null,
   "metadata": {},
   "outputs": [],
   "source": [
    "# co = CustomOutlier(contam = 0.25)\n",
    "# yy, XX = co.fit_transform(X_female[numerical_features], y_female)\n",
    "# X_female = X_female.loc[XX.index,:]\n",
    "# y_female = yy"
   ]
  },
  {
   "cell_type": "code",
   "execution_count": null,
   "metadata": {},
   "outputs": [],
   "source": [
    "len(X_train.columns)"
   ]
  },
  {
   "cell_type": "code",
   "execution_count": null,
   "metadata": {},
   "outputs": [],
   "source": [
    "X['resting_ekg_results'].unique()"
   ]
  },
  {
   "cell_type": "code",
   "execution_count": 49,
   "metadata": {},
   "outputs": [
    {
     "name": "stdout",
     "output_type": "stream",
     "text": [
      "(99, 7)\n"
     ]
    },
    {
     "data": {
      "text/plain": [
       "Pipeline(memory=None,\n",
       "     steps=[('lr', RandomForestClassifier(bootstrap=True, class_weight='balanced',\n",
       "            criterion='gini', max_depth=None, max_features='auto',\n",
       "            max_leaf_nodes=None, min_impurity_decrease=0.0,\n",
       "            min_impurity_split=None, min_samples_leaf=1,\n",
       "            min_samples_split=2, min_weight_fraction_leaf=0.0,\n",
       "            n_estimators=10, n_jobs=1, oob_score=False, random_state=None,\n",
       "            verbose=0, warm_start=False))])"
      ]
     },
     "execution_count": 49,
     "metadata": {},
     "output_type": "execute_result"
    }
   ],
   "source": [
    "from sklearn.ensemble import RandomForestClassifier\n",
    "from sklearn.model_selection import RandomizedSearchCV\n",
    "from sklearn.ensemble import GradientBoostingClassifier\n",
    "\n",
    "numerical_features = [\n",
    "                    #'slope_of_peak_exercise_st_segment', \n",
    "                     'resting_blood_pressure', \n",
    "                      'num_major_vessels',\n",
    "                      #'fasting_blood_sugar_gt_120_mg_per_dl',\n",
    "                      #'serum_cholesterol_mg_per_dl',\n",
    "                      #'oldpeak_eq_st_depression',\n",
    "                      'age',\n",
    "                      #'max_heart_rate_achieved'\n",
    "]\n",
    "\n",
    "categorical_features = [#'thal',\n",
    "                        'chest_pain_type'\n",
    "                       # , \n",
    "                       # 'resting_ekg_results'\n",
    "                        ]\n",
    "\n",
    "binary_features = [\n",
    "                    'sex'\n",
    "    #,\n",
    "                  # 'exercise_induced_angina'\n",
    "]\n",
    "\n",
    "\n",
    "# For categorical features\n",
    "\n",
    "cat_pipe = Pipeline([\n",
    "      ('cst', ColumnSelectTransformer(categorical_features)),\n",
    "      ('cle', CustomOneHot())\n",
    "      ])\n",
    "    \n",
    "# For features we don't want to transform\n",
    "passthrough_pipe = Pipeline([\n",
    "    ('cst', ColumnSelectTransformer(numerical_features))\n",
    "   \n",
    "])\n",
    "\n",
    "feat_u = FeatureUnion([\n",
    "    ('cat_pipe', cat_pipe)\n",
    "    ,\n",
    "    ('passthrough_pipe', passthrough_pipe)\n",
    "])\n",
    "\n",
    "Xt = feat_u.fit_transform(X_train)\n",
    "print(Xt.shape)\n",
    "#model = NMF(n_components = 4, init='random', random_state=0)\n",
    "#model1 = TruncatedSVD(random_state=0)\n",
    "#model3 = PCA()\n",
    "model4 = RandomForestClassifier(class_weight='balanced')\n",
    "model5 = GradientBoostingClassifier()\n",
    "\n",
    "full_model = Pipeline([\n",
    "  #  ('sc', StandardScaler()),\n",
    "   # ('dimred', model),\n",
    "    ('lr',  model4)\n",
    "    \n",
    "])\n",
    "\n",
    "param_grid =  {\n",
    "              #'dimred__n_components' : range(3,6),\n",
    "              'lr__n_estimators': range(100, 301, 100),\n",
    "              'lr__max_depth' : range(2,7),\n",
    "              'lr__min_samples_split': range(2,7),\n",
    "              'lr__min_samples_leaf' :range(2,7)\n",
    "              \n",
    "              }\n",
    "\n",
    "              \n",
    "\n",
    "\n",
    "\n",
    "# gs = RandomizedSearchCV(estimator=full_model,\n",
    "#                   param_distributions=param_grid,\n",
    "#                   n_iter = 250,\n",
    "#                   scoring = 'neg_log_loss',\n",
    "#                   n_jobs=5,\n",
    "#                   cv=2,\n",
    "#                   verbose=1)\n",
    "\n",
    "gs = full_model\n",
    "\n",
    "gs.fit(Xt,y_train.values)\n",
    "#gs.best_score_\n",
    "\n"
   ]
  },
  {
   "cell_type": "code",
   "execution_count": null,
   "metadata": {},
   "outputs": [],
   "source": [
    "AA = cat_pipe.fit_transform(X_train)\n",
    "AA.shape"
   ]
  },
  {
   "cell_type": "code",
   "execution_count": null,
   "metadata": {},
   "outputs": [],
   "source": [
    "X_train[categorical_features]"
   ]
  },
  {
   "cell_type": "code",
   "execution_count": null,
   "metadata": {},
   "outputs": [],
   "source": [
    "Xtt = feat_u.fit_transform(X_test1)\n",
    "y_pred = gs.predict_proba(Xtt)[:,1]\n",
    "\n",
    "from sklearn.metrics import log_loss\n",
    "rr = log_loss(y_test1, y_pred)\n",
    "rr"
   ]
  },
  {
   "cell_type": "code",
   "execution_count": null,
   "metadata": {},
   "outputs": [],
   "source": [
    "X_female.head()"
   ]
  },
  {
   "cell_type": "code",
   "execution_count": null,
   "metadata": {},
   "outputs": [],
   "source": [
    "X_male['resting_ekg_results'].value_counts()"
   ]
  },
  {
   "cell_type": "code",
   "execution_count": null,
   "metadata": {},
   "outputs": [],
   "source": [
    "X_female[categorical_features]"
   ]
  },
  {
   "cell_type": "code",
   "execution_count": null,
   "metadata": {},
   "outputs": [],
   "source": [
    "X.shape"
   ]
  },
  {
   "cell_type": "code",
   "execution_count": null,
   "metadata": {},
   "outputs": [],
   "source": [
    "Xt.shape"
   ]
  },
  {
   "cell_type": "code",
   "execution_count": null,
   "metadata": {},
   "outputs": [],
   "source": [
    "gs.best_params_"
   ]
  },
  {
   "cell_type": "code",
   "execution_count": null,
   "metadata": {},
   "outputs": [],
   "source": [
    "Xtt = feat_u.fit_transform(X_test_male)\n",
    "y_pred = gs.predict_proba(Xtt)[:,1]\n",
    "y_pred.shape\n",
    "y_male_test['heart_disease_present'] = y_pred"
   ]
  },
  {
   "cell_type": "code",
   "execution_count": null,
   "metadata": {},
   "outputs": [],
   "source": [
    "Xtt = feat_u.fit_transform(X_test_female)\n",
    "y_pred = gs.predict_proba(Xtt)[:,1]\n",
    "y_pred.shape\n",
    "y_female_test['heart_disease_present'] = y_pred"
   ]
  },
  {
   "cell_type": "code",
   "execution_count": null,
   "metadata": {},
   "outputs": [],
   "source": [
    "y_male_test"
   ]
  },
  {
   "cell_type": "code",
   "execution_count": null,
   "metadata": {},
   "outputs": [],
   "source": [
    "y_probs = pd.concat([y_male_test, y_female_test])"
   ]
  },
  {
   "cell_type": "code",
   "execution_count": null,
   "metadata": {},
   "outputs": [],
   "source": [
    "y_probs"
   ]
  },
  {
   "cell_type": "code",
   "execution_count": null,
   "metadata": {},
   "outputs": [],
   "source": [
    "submission = pd.read_csv('data_heart/submission_format.csv')\n",
    "submission.heart_disease_present = y_pred\n",
    "submission.to_csv('2019-08-21_submission.csv', index=False)"
   ]
  },
  {
   "cell_type": "code",
   "execution_count": null,
   "metadata": {},
   "outputs": [],
   "source": [
    "from sklearn.metrics import log_loss\n",
    "y_pred = gs.predict_proba(Xt)[:,1]\n",
    "\n",
    "log_loss(y, y_pred)"
   ]
  },
  {
   "cell_type": "markdown",
   "metadata": {},
   "source": [
    "## Test Values"
   ]
  },
  {
   "cell_type": "code",
   "execution_count": null,
   "metadata": {},
   "outputs": [],
   "source": [
    "X_test = pd.read_csv('data/test_values.csv', index_col='patient_id')"
   ]
  },
  {
   "cell_type": "code",
   "execution_count": null,
   "metadata": {},
   "outputs": [],
   "source": [
    "y_ans = simple_lr.predict(X_test[reduced_cols])"
   ]
  },
  {
   "cell_type": "code",
   "execution_count": null,
   "metadata": {},
   "outputs": [],
   "source": []
  }
 ],
 "metadata": {
  "kernelspec": {
   "display_name": "Python 3",
   "language": "python",
   "name": "python3"
  },
  "language_info": {
   "codemirror_mode": {
    "name": "ipython",
    "version": 3
   },
   "file_extension": ".py",
   "mimetype": "text/x-python",
   "name": "python",
   "nbconvert_exporter": "python",
   "pygments_lexer": "ipython3",
   "version": "3.7.5"
  }
 },
 "nbformat": 4,
 "nbformat_minor": 2
}
